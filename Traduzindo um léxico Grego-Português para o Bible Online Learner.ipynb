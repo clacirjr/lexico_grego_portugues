{
 "cells": [
  {
   "cell_type": "markdown",
   "id": "748f0a10",
   "metadata": {},
   "source": [
    "Este documento descreve o processo de tradução automatizada utlizado como passo inicial para o desenvolvimento de um léxico grego-português para o Bible Online Learner.\n",
    "\n",
    "O processo se baseou primariamente no tutorial [Translate a Pandas data frame using googletrans library](https://towardsdatascience.com/translate-a-pandas-data-frame-using-googletrans-library-fb0aa7fca592), desenvolvido por Amanda Iglesias Moreno.\n",
    "\n",
    "# Importando o Googletrans\n",
    "\n",
    "Googletrans é uma biblioteca gratuita para Python que usa a API de tradução do Google. Para fazer a tradução, o primeiro passo é importar a biblioteca. Para isso usamos o comando `pip`."
   ]
  },
  {
   "cell_type": "code",
   "execution_count": 1,
   "id": "9b774616",
   "metadata": {},
   "outputs": [
    {
     "name": "stdout",
     "output_type": "stream",
     "text": [
      "Requirement already satisfied: googletrans==4.0.0-rc1 in c:\\users\\claci\\anaconda3\\lib\\site-packages (4.0.0rc1)\n",
      "Requirement already satisfied: httpx==0.13.3 in c:\\users\\claci\\anaconda3\\lib\\site-packages (from googletrans==4.0.0-rc1) (0.13.3)\n",
      "Requirement already satisfied: idna==2.* in c:\\users\\claci\\anaconda3\\lib\\site-packages (from httpx==0.13.3->googletrans==4.0.0-rc1) (2.10)\n",
      "Requirement already satisfied: rfc3986<2,>=1.3 in c:\\users\\claci\\anaconda3\\lib\\site-packages (from httpx==0.13.3->googletrans==4.0.0-rc1) (1.5.0)\n",
      "Requirement already satisfied: sniffio in c:\\users\\claci\\anaconda3\\lib\\site-packages (from httpx==0.13.3->googletrans==4.0.0-rc1) (1.2.0)\n",
      "Requirement already satisfied: httpcore==0.9.* in c:\\users\\claci\\anaconda3\\lib\\site-packages (from httpx==0.13.3->googletrans==4.0.0-rc1) (0.9.1)\n",
      "Requirement already satisfied: hstspreload in c:\\users\\claci\\anaconda3\\lib\\site-packages (from httpx==0.13.3->googletrans==4.0.0-rc1) (2021.12.1)\n",
      "Requirement already satisfied: certifi in c:\\users\\claci\\anaconda3\\lib\\site-packages (from httpx==0.13.3->googletrans==4.0.0-rc1) (2021.10.8)\n",
      "Requirement already satisfied: chardet==3.* in c:\\users\\claci\\anaconda3\\lib\\site-packages (from httpx==0.13.3->googletrans==4.0.0-rc1) (3.0.4)\n",
      "Requirement already satisfied: h11<0.10,>=0.8 in c:\\users\\claci\\anaconda3\\lib\\site-packages (from httpcore==0.9.*->httpx==0.13.3->googletrans==4.0.0-rc1) (0.9.0)\n",
      "Requirement already satisfied: h2==3.* in c:\\users\\claci\\anaconda3\\lib\\site-packages (from httpcore==0.9.*->httpx==0.13.3->googletrans==4.0.0-rc1) (3.2.0)\n",
      "Requirement already satisfied: hpack<4,>=3.0 in c:\\users\\claci\\anaconda3\\lib\\site-packages (from h2==3.*->httpcore==0.9.*->httpx==0.13.3->googletrans==4.0.0-rc1) (3.0.0)\n",
      "Requirement already satisfied: hyperframe<6,>=5.2.0 in c:\\users\\claci\\anaconda3\\lib\\site-packages (from h2==3.*->httpcore==0.9.*->httpx==0.13.3->googletrans==4.0.0-rc1) (5.2.0)\n"
     ]
    }
   ],
   "source": [
    "# instala googletrans usiando pip\n",
    "!pip install googletrans==4.0.0-rc1\n",
    "\n",
    "# importa a biblioteca\n",
    "import googletrans\n",
    "from googletrans import Translator"
   ]
  },
  {
   "cell_type": "markdown",
   "id": "7957c09b",
   "metadata": {},
   "source": [
    "# Traduzindo um texto\n",
    "\n",
    "Depois de instalada a biblioteca `googletrans`, o próximo passo é criar um objeto do tipo `translator`. Esse objeto usa o método `translate` para traduzir um conjunto de caracteres qualquer, no caso, o texto. O método retorna um atributo, `.text` que contém a tradução."
   ]
  },
  {
   "cell_type": "code",
   "execution_count": 13,
   "id": "619eb00c",
   "metadata": {},
   "outputs": [
    {
     "name": "stdout",
     "output_type": "stream",
     "text": [
      "Translated(src=pt, dest=en, text=Hello World!, pronunciation=None, extra_data=\"{'confiden...\")\n"
     ]
    },
    {
     "data": {
      "text/plain": [
       "'Hello World!'"
      ]
     },
     "execution_count": 13,
     "metadata": {},
     "output_type": "execute_result"
    }
   ],
   "source": [
    "# cria um objeto do tipo translator\n",
    "tradutor = Translator()\n",
    "\n",
    "# usa o método translate para traduzir o texto - por padrão, a língua alvo é inglês\n",
    "traducao = tradutor.translate('Olá, Mundo!')\n",
    "\n",
    "# o método ´translate´ retorna um objeto com uma série de atributos\n",
    "\n",
    "# Translated(src=pt, dest=en, text=Hello World!, pronunciation=None, extra_data=\"{'confiden...\")\n",
    "print(traducao)\n",
    "\n",
    "# obtém o texto traduzido usando o atributo '.text'\n",
    "traducao.text\n",
    "\n",
    "# Após a execução, deve aparecer a expressão 'Hello World'"
   ]
  },
  {
   "cell_type": "markdown",
   "id": "21d9807f",
   "metadata": {},
   "source": [
    "Há alguns parâmetros que podem ser usados (alguns deles apareceram antes quando solicitamos que as informações do objeto fossem mostradas). `src` especifica a língua original do texto. `dest` designa a língua alvo da tradução. Se não forem configurados, a biblioteca `googletrans` tentará detectar a língua original e vai traduzir o texto para o inglês. Uma lista das abreviaturas para cada língua disponível pode ser vista usando-se o atributo `.LANGUAGES`."
   ]
  },
  {
   "cell_type": "code",
   "execution_count": 15,
   "id": "f9376f7b",
   "metadata": {},
   "outputs": [
    {
     "name": "stdout",
     "output_type": "stream",
     "text": [
      "{'af': 'afrikaans', 'sq': 'albanian', 'am': 'amharic', 'ar': 'arabic', 'hy': 'armenian', 'az': 'azerbaijani', 'eu': 'basque', 'be': 'belarusian', 'bn': 'bengali', 'bs': 'bosnian', 'bg': 'bulgarian', 'ca': 'catalan', 'ceb': 'cebuano', 'ny': 'chichewa', 'zh-cn': 'chinese (simplified)', 'zh-tw': 'chinese (traditional)', 'co': 'corsican', 'hr': 'croatian', 'cs': 'czech', 'da': 'danish', 'nl': 'dutch', 'en': 'english', 'eo': 'esperanto', 'et': 'estonian', 'tl': 'filipino', 'fi': 'finnish', 'fr': 'french', 'fy': 'frisian', 'gl': 'galician', 'ka': 'georgian', 'de': 'german', 'el': 'greek', 'gu': 'gujarati', 'ht': 'haitian creole', 'ha': 'hausa', 'haw': 'hawaiian', 'iw': 'hebrew', 'he': 'hebrew', 'hi': 'hindi', 'hmn': 'hmong', 'hu': 'hungarian', 'is': 'icelandic', 'ig': 'igbo', 'id': 'indonesian', 'ga': 'irish', 'it': 'italian', 'ja': 'japanese', 'jw': 'javanese', 'kn': 'kannada', 'kk': 'kazakh', 'km': 'khmer', 'ko': 'korean', 'ku': 'kurdish (kurmanji)', 'ky': 'kyrgyz', 'lo': 'lao', 'la': 'latin', 'lv': 'latvian', 'lt': 'lithuanian', 'lb': 'luxembourgish', 'mk': 'macedonian', 'mg': 'malagasy', 'ms': 'malay', 'ml': 'malayalam', 'mt': 'maltese', 'mi': 'maori', 'mr': 'marathi', 'mn': 'mongolian', 'my': 'myanmar (burmese)', 'ne': 'nepali', 'no': 'norwegian', 'or': 'odia', 'ps': 'pashto', 'fa': 'persian', 'pl': 'polish', 'pt': 'portuguese', 'pa': 'punjabi', 'ro': 'romanian', 'ru': 'russian', 'sm': 'samoan', 'gd': 'scots gaelic', 'sr': 'serbian', 'st': 'sesotho', 'sn': 'shona', 'sd': 'sindhi', 'si': 'sinhala', 'sk': 'slovak', 'sl': 'slovenian', 'so': 'somali', 'es': 'spanish', 'su': 'sundanese', 'sw': 'swahili', 'sv': 'swedish', 'tg': 'tajik', 'ta': 'tamil', 'te': 'telugu', 'th': 'thai', 'tr': 'turkish', 'uk': 'ukrainian', 'ur': 'urdu', 'ug': 'uyghur', 'uz': 'uzbek', 'vi': 'vietnamese', 'cy': 'welsh', 'xh': 'xhosa', 'yi': 'yiddish', 'yo': 'yoruba', 'zu': 'zulu'}\n"
     ]
    }
   ],
   "source": [
    "# línguas disponíveis para tradução\n",
    "print(googletrans.LANGUAGES)"
   ]
  },
  {
   "cell_type": "markdown",
   "id": "16a497e9",
   "metadata": {},
   "source": [
    "Ao usar o método `.translate`, o retorno é um objeto que contem os seguintes atributos:\n",
    "\n",
    "* src = língua original\n",
    "* dest = língua alvo\n",
    "* origin = texto original\n",
    "* text = texto traduzido\n",
    "* pronunciation = pronúncia\n",
    "\n",
    "Usando o objeto criado anteriormente, podemos obter as seguintes informações:"
   ]
  },
  {
   "cell_type": "code",
   "execution_count": 22,
   "id": "e9ddd6ed",
   "metadata": {},
   "outputs": [
    {
     "name": "stdout",
     "output_type": "stream",
     "text": [
      "Hello World!\n",
      "Olá, Mundo!\n",
      "pt\n",
      "en\n",
      "None\n"
     ]
    }
   ],
   "source": [
    "tradutor = Translator()\n",
    "traducao = tradutor.translate('Olá, Mundo!')\n",
    "\n",
    "# obtém o texto traduzido- atributo .text\n",
    "print(traducao.text)\n",
    "\n",
    "# obtém o texto original - atributo .origin\n",
    "print(traducao.origin)\n",
    "\n",
    "# obtém a língua original - atributo .src\n",
    "print(traducao.src)\n",
    "\n",
    "# obtém a língua alvo - atributo .dest\n",
    "print(traducao.dest)\n",
    "\n",
    "# obtém a pronúncia do texto - atributo .pronunciation\n",
    "print(traducao.pronunciation)"
   ]
  },
  {
   "cell_type": "markdown",
   "id": "afc46a69",
   "metadata": {},
   "source": [
    "# Traduzindo dataframes\n",
    "\n",
    "Dataframe é um conjunto de dados na forma de tabela. O objetivo aqui é traduzir completamente um dataframe que contém um léxico grego-inglês para o português usando a biblioteca `googletrans`. O documento pode ser encontrado [aqui](). O objetivo é traduzir as entradas da coluna \"English Translation\" e colocar o resultado em \"Portuguese Translation\". Para isso, o primeiro passo é configurar o documento através doa biblioteca `pandas`, que é própria para manipular esse tipo de conjunto de dados."
   ]
  }
 ],
 "metadata": {
  "kernelspec": {
   "display_name": "Python 3 (ipykernel)",
   "language": "python",
   "name": "python3"
  },
  "language_info": {
   "codemirror_mode": {
    "name": "ipython",
    "version": 3
   },
   "file_extension": ".py",
   "mimetype": "text/x-python",
   "name": "python",
   "nbconvert_exporter": "python",
   "pygments_lexer": "ipython3",
   "version": "3.9.7"
  }
 },
 "nbformat": 4,
 "nbformat_minor": 5
}
