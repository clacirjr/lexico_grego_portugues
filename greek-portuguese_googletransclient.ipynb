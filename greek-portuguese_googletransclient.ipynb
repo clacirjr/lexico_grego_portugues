{
 "cells": [
  {
   "cell_type": "code",
   "execution_count": null,
   "id": "9ccb97ce",
   "metadata": {},
   "outputs": [],
   "source": [
    "# import pandas library\n",
    "import pandas as pd\n",
    "\n",
    "# import json library\n",
    "import json\n",
    "from requests import get\n",
    "\n",
    "# load the data into a pandas dataframe\n",
    "lexico_el_en = pd.read_excel('Greek-Portuguese_v0.1_new_test.xlsx')\n",
    "\n",
    "# show dataframe information, the first rows\n",
    "lexico_el_en.info()"
   ]
  },
  {
   "cell_type": "code",
   "execution_count": null,
   "id": "45ef3018",
   "metadata": {},
   "outputs": [],
   "source": [
    "# first procedure is to put the word \"I\" before each word in the column \"English Translation\" \n",
    "# where the speech part (column \"sp\") is \"verb\"\n",
    "\n",
    "for i, text in enumerate(lexico_el_en['English Translation']):\n",
    "    \n",
    "    # puts the word \"I\" based on the condition (\"sp\" = 'verb')\n",
    "    if (lexico_el_en.loc[i,'sp'] == \"verb\"):\n",
    "        \n",
    "        i_verb = lexico_el_en.loc[i,'English Translation']\n",
    "        \n",
    "        # separate words\n",
    "        if (\",\" in i_verb) :\n",
    "            \n",
    "            separated_words = i_verb.split(',')\n",
    "           \n",
    "            words_array = []\n",
    "            \n",
    "            # puts an \"I\" before each separate word, i.e, verb\n",
    "            for each_separated_word in separated_words :\n",
    "                \n",
    "                each_separated_word = 'I ' + each_separated_word.strip()\n",
    "                                \n",
    "                words_array.append(each_separated_word)\n",
    "            \n",
    "            # lexico_el_en.loc[i,'English Translation'] = joint_words\n",
    "            \n",
    "            joint_words = ', '.join(words_array)\n",
    "            \n",
    "            print(joint_words)\n",
    "            \n",
    "        # modifies the \"English Translation\" columns with the new form for the verbs\n",
    "        lexico_el_en.loc[i,'English Translation'] = joint_words\n",
    "        \n",
    "# show dataframe information, with \"English Translation\" modified\n",
    "lexico_el_en.head"
   ]
  },
  {
   "cell_type": "code",
   "execution_count": null,
   "id": "b535ecf5",
   "metadata": {},
   "outputs": [],
   "source": [
    "# copies the dataframe\n",
    "lexico_el_pt = lexico_el_en.copy()\n",
    "\n",
    "# creates wordlist based on the column \"English Translation\"\n",
    "lexico_en = dict(lexico_el_pt['English Translation'])\n",
    "\n",
    "# loop for translation\n",
    "for i, text in enumerate(lexico_el_en['English Translation']):\n",
    "    \n",
    "    # translates from the Google Translate Client using a JavaScript Object Notation (https://pythonbasics.org/pandas-json/)\n",
    "    text_translated = get(\"https://clients5.google.com/translate_a/t?client=dict-chrome-ex&sl=auto&tl=pt&q=\"+ str(text)).json()\n",
    "    \n",
    "    # groups the words back into the pandas dataframe (before they were a json-type of text)\n",
    "    all_words = ','.join(text_translated)\n",
    "    \n",
    "    print(all_words)\n",
    "    \n",
    "    # inserts each word in the \"Portuguese Translation\" column\n",
    "    lexico_el_pt.loc[i, 'Portuguese Translation'] = all_words"
   ]
  },
  {
   "cell_type": "code",
   "execution_count": null,
   "id": "6c83334c",
   "metadata": {},
   "outputs": [],
   "source": [
    "# cria um novo documento .csv com base na nova tradução feita\n",
    "lexico_el_pt.to_excel('Greek-Portuguese_v0.1_translated.xlsx')\n",
    "\n",
    "# o novo documento será criado na pasta onde este Jupyter Notebook estiver rodando."
   ]
  }
 ],
 "metadata": {
  "kernelspec": {
   "display_name": "Python 3 (ipykernel)",
   "language": "python",
   "name": "python3"
  },
  "language_info": {
   "codemirror_mode": {
    "name": "ipython",
    "version": 3
   },
   "file_extension": ".py",
   "mimetype": "text/x-python",
   "name": "python",
   "nbconvert_exporter": "python",
   "pygments_lexer": "ipython3",
   "version": "3.9.7"
  }
 },
 "nbformat": 4,
 "nbformat_minor": 5
}
