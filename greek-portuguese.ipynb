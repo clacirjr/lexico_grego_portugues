{
 "cells": [
  {
   "cell_type": "code",
   "execution_count": null,
   "id": "59076f4d",
   "metadata": {},
   "outputs": [],
   "source": [
    "# instala googletrans usiando pip\n",
    "!pip install googletrans==4.0.0-rc1"
   ]
  },
  {
   "cell_type": "code",
   "execution_count": null,
   "id": "ef0b8f92",
   "metadata": {},
   "outputs": [],
   "source": [
    "# importa a biblioteca\n",
    "import googletrans\n",
    "from googletrans import Translator"
   ]
  },
  {
   "cell_type": "code",
   "execution_count": null,
   "id": "9ccb97ce",
   "metadata": {},
   "outputs": [],
   "source": [
    "# importa a biblioteca pandas\n",
    "import pandas as pd\n",
    "\n",
    "tradutor = Translator()\n",
    "\n",
    "# carrega os dados locais para um dataframe pandas\n",
    "lexico_el_en = pd.read_csv('greek_en_teste.csv', sep=',', encoding='latin-1')\n",
    "\n",
    "# informações sobre a tabela\n",
    "lexico_el_en.info()"
   ]
  },
  {
   "cell_type": "code",
   "execution_count": null,
   "id": "b535ecf5",
   "metadata": {},
   "outputs": [],
   "source": [
    "# faz uma cópia da tabela\n",
    "lexico_el_pt = lexico_el_en.copy()\n",
    "\n",
    "# cria a coluna \"Portuguese Translation\"\n",
    "lexico_el_pt['Portuguese Translation'] = lexico_el_pt['Gloss'].apply(tradutor.translate, dest='pt').apply(getattr, args=('text',))\n",
    "\n",
    "# mostra as primeiras linhas da nova tabela\n",
    "lexico_el_pt.head()"
   ]
  },
  {
   "cell_type": "code",
   "execution_count": null,
   "id": "6c83334c",
   "metadata": {},
   "outputs": [],
   "source": [
    "# cria um novo documento .csv com base na nova tradução feita\n",
    "lexico_el_pt.to_csv('Greek-Portuguese_v0.1_translated.csv', sep='\\t', encoding='utf-8', index=False)\n",
    "\n",
    "# o novo documento será criado na pasta onde este Jupyter Notebook estiver rodando."
   ]
  }
 ],
 "metadata": {
  "kernelspec": {
   "display_name": "Python 3 (ipykernel)",
   "language": "python",
   "name": "python3"
  },
  "language_info": {
   "codemirror_mode": {
    "name": "ipython",
    "version": 3
   },
   "file_extension": ".py",
   "mimetype": "text/x-python",
   "name": "python",
   "nbconvert_exporter": "python",
   "pygments_lexer": "ipython3",
   "version": "3.9.7"
  }
 },
 "nbformat": 4,
 "nbformat_minor": 5
}
